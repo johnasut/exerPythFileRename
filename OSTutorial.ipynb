{
 "cells": [
  {
   "cell_type": "code",
   "execution_count": 1,
   "metadata": {},
   "outputs": [],
   "source": [
    "import os"
   ]
  },
  {
   "cell_type": "code",
   "execution_count": 4,
   "metadata": {},
   "outputs": [],
   "source": [
    "os.chdir('/Box Sync/Fellowship')"
   ]
  },
  {
   "cell_type": "code",
   "execution_count": 5,
   "metadata": {},
   "outputs": [
    {
     "name": "stdout",
     "output_type": "stream",
     "text": [
      "C:\\Box Sync\\Fellowship\n"
     ]
    }
   ],
   "source": [
    "print(os.getcwd())"
   ]
  },
  {
   "cell_type": "code",
   "execution_count": 6,
   "metadata": {},
   "outputs": [],
   "source": [
    "os.chdir('MS Biomedical Informatics/2020 Fall/Comp Sci Fundamentals - BMI 6017 (Nurs 6806)/myProject/exerPythFileRename')"
   ]
  },
  {
   "cell_type": "code",
   "execution_count": 7,
   "metadata": {},
   "outputs": [
    {
     "name": "stdout",
     "output_type": "stream",
     "text": [
      "C:\\Box Sync\\Fellowship\\MS Biomedical Informatics\\2020 Fall\\Comp Sci Fundamentals - BMI 6017 (Nurs 6806)\\myProject\\exerPythFileRename\n"
     ]
    }
   ],
   "source": [
    "print(os.getcwd())"
   ]
  },
  {
   "cell_type": "code",
   "execution_count": 8,
   "metadata": {},
   "outputs": [
    {
     "name": "stdout",
     "output_type": "stream",
     "text": [
      ".git\n",
      ".ipynb_checkpoints\n",
      "Files\n",
      "OSTutorial.ipynb\n",
      "README.md\n"
     ]
    }
   ],
   "source": [
    "for f in os.listdir():\n",
    "    print(f)"
   ]
  },
  {
   "cell_type": "code",
   "execution_count": 9,
   "metadata": {},
   "outputs": [],
   "source": [
    "os.chdir('Files')"
   ]
  },
  {
   "cell_type": "code",
   "execution_count": 10,
   "metadata": {},
   "outputs": [
    {
     "name": "stdout",
     "output_type": "stream",
     "text": [
      "C:\\Box Sync\\Fellowship\\MS Biomedical Informatics\\2020 Fall\\Comp Sci Fundamentals - BMI 6017 (Nurs 6806)\\myProject\\exerPythFileRename\\Files\n"
     ]
    }
   ],
   "source": [
    "print(os.getcwd())"
   ]
  },
  {
   "cell_type": "code",
   "execution_count": 11,
   "metadata": {},
   "outputs": [
    {
     "name": "stdout",
     "output_type": "stream",
     "text": [
      "Aqua - Our Colors - #5.jpg\n",
      "Aquamarine - Our Colors - #7.jpg\n",
      "Azure - Our Colors - #3.jpg\n",
      "Blue - Our Colors - #1.jpg\n",
      "Cerulean - Our Colors - #4.jpg\n",
      "Cyan - Our Colors - #8.jpg\n",
      "Indigo - Our Colors - #9.jpg\n",
      "Livid - Our Colors - #6.jpg\n",
      "Peacock Blue - Our Colors - #10.jpg\n",
      "Sapphire - Our Colors - #2.jpg\n"
     ]
    }
   ],
   "source": [
    "for f in os.listdir():\n",
    "    print(f)"
   ]
  },
  {
   "cell_type": "code",
   "execution_count": 12,
   "metadata": {},
   "outputs": [
    {
     "name": "stdout",
     "output_type": "stream",
     "text": [
      "('Aqua - Our Colors - #5', '.jpg')\n",
      "('Aquamarine - Our Colors - #7', '.jpg')\n",
      "('Azure - Our Colors - #3', '.jpg')\n",
      "('Blue - Our Colors - #1', '.jpg')\n",
      "('Cerulean - Our Colors - #4', '.jpg')\n",
      "('Cyan - Our Colors - #8', '.jpg')\n",
      "('Indigo - Our Colors - #9', '.jpg')\n",
      "('Livid - Our Colors - #6', '.jpg')\n",
      "('Peacock Blue - Our Colors - #10', '.jpg')\n",
      "('Sapphire - Our Colors - #2', '.jpg')\n"
     ]
    }
   ],
   "source": [
    "for f in os.listdir():\n",
    "    print(os.path.splitext(f))"
   ]
  },
  {
   "cell_type": "code",
   "execution_count": 13,
   "metadata": {},
   "outputs": [
    {
     "name": "stdout",
     "output_type": "stream",
     "text": [
      "Aqua - Our Colors - #5\n",
      ".jpg\n",
      "Aquamarine - Our Colors - #7\n",
      ".jpg\n",
      "Azure - Our Colors - #3\n",
      ".jpg\n",
      "Blue - Our Colors - #1\n",
      ".jpg\n",
      "Cerulean - Our Colors - #4\n",
      ".jpg\n",
      "Cyan - Our Colors - #8\n",
      ".jpg\n",
      "Indigo - Our Colors - #9\n",
      ".jpg\n",
      "Livid - Our Colors - #6\n",
      ".jpg\n",
      "Peacock Blue - Our Colors - #10\n",
      ".jpg\n",
      "Sapphire - Our Colors - #2\n",
      ".jpg\n"
     ]
    }
   ],
   "source": [
    "for f in os.listdir():\n",
    "    file_name, file_ext = os.path.splitext(f)\n",
    "    print(file_name)\n",
    "    print(file_ext)"
   ]
  },
  {
   "cell_type": "code",
   "execution_count": 14,
   "metadata": {},
   "outputs": [
    {
     "name": "stdout",
     "output_type": "stream",
     "text": [
      "Aqua - Our Colors - #5\n",
      "Aquamarine - Our Colors - #7\n",
      "Azure - Our Colors - #3\n",
      "Blue - Our Colors - #1\n",
      "Cerulean - Our Colors - #4\n",
      "Cyan - Our Colors - #8\n",
      "Indigo - Our Colors - #9\n",
      "Livid - Our Colors - #6\n",
      "Peacock Blue - Our Colors - #10\n",
      "Sapphire - Our Colors - #2\n"
     ]
    }
   ],
   "source": [
    "for f in os.listdir():\n",
    "    file_name, file_ext = os.path.splitext(f)\n",
    "    print(file_name)"
   ]
  },
  {
   "cell_type": "code",
   "execution_count": 15,
   "metadata": {},
   "outputs": [
    {
     "name": "stdout",
     "output_type": "stream",
     "text": [
      "['Aqua ', ' Our Colors ', ' #5']\n",
      "['Aquamarine ', ' Our Colors ', ' #7']\n",
      "['Azure ', ' Our Colors ', ' #3']\n",
      "['Blue ', ' Our Colors ', ' #1']\n",
      "['Cerulean ', ' Our Colors ', ' #4']\n",
      "['Cyan ', ' Our Colors ', ' #8']\n",
      "['Indigo ', ' Our Colors ', ' #9']\n",
      "['Livid ', ' Our Colors ', ' #6']\n",
      "['Peacock Blue ', ' Our Colors ', ' #10']\n",
      "['Sapphire ', ' Our Colors ', ' #2']\n"
     ]
    }
   ],
   "source": [
    "for f in os.listdir():\n",
    "    file_name, file_ext = os.path.splitext(f)\n",
    "    print(file_name.split('-'))"
   ]
  },
  {
   "cell_type": "code",
   "execution_count": 16,
   "metadata": {},
   "outputs": [
    {
     "name": "stdout",
     "output_type": "stream",
     "text": [
      "['Aqua', 'Our Colors', '#5']\n",
      "['Aquamarine', 'Our Colors', '#7']\n",
      "['Azure', 'Our Colors', '#3']\n",
      "['Blue', 'Our Colors', '#1']\n",
      "['Cerulean', 'Our Colors', '#4']\n",
      "['Cyan', 'Our Colors', '#8']\n",
      "['Indigo', 'Our Colors', '#9']\n",
      "['Livid', 'Our Colors', '#6']\n",
      "['Peacock Blue', 'Our Colors', '#10']\n",
      "['Sapphire', 'Our Colors', '#2']\n"
     ]
    }
   ],
   "source": [
    "for f in os.listdir():\n",
    "    file_name, file_ext = os.path.splitext(f)\n",
    "    print(file_name.split(' - '))"
   ]
  },
  {
   "cell_type": "code",
   "execution_count": 17,
   "metadata": {},
   "outputs": [
    {
     "name": "stdout",
     "output_type": "stream",
     "text": [
      "Aqua \n",
      "Aquamarine \n",
      "Azure \n",
      "Blue \n",
      "Cerulean \n",
      "Cyan \n",
      "Indigo \n",
      "Livid \n",
      "Peacock Blue \n",
      "Sapphire \n"
     ]
    }
   ],
   "source": [
    "for f in os.listdir():\n",
    "    file_name, file_ext = os.path.splitext(f)\n",
    "    f_title, f_series, f_num=file_name.split('-')\n",
    "    print(f_title)"
   ]
  },
  {
   "cell_type": "code",
   "execution_count": 18,
   "metadata": {},
   "outputs": [
    {
     "name": "stdout",
     "output_type": "stream",
     "text": [
      " Our Colors \n",
      " Our Colors \n",
      " Our Colors \n",
      " Our Colors \n",
      " Our Colors \n",
      " Our Colors \n",
      " Our Colors \n",
      " Our Colors \n",
      " Our Colors \n",
      " Our Colors \n"
     ]
    }
   ],
   "source": [
    "for f in os.listdir():\n",
    "    file_name, file_ext = os.path.splitext(f)\n",
    "    f_title, f_series, f_num=file_name.split('-')\n",
    "    print(f_series)"
   ]
  },
  {
   "cell_type": "code",
   "execution_count": 19,
   "metadata": {},
   "outputs": [
    {
     "name": "stdout",
     "output_type": "stream",
     "text": [
      " #5\n",
      " #7\n",
      " #3\n",
      " #1\n",
      " #4\n",
      " #8\n",
      " #9\n",
      " #6\n",
      " #10\n",
      " #2\n"
     ]
    }
   ],
   "source": [
    "for f in os.listdir():\n",
    "    file_name, file_ext = os.path.splitext(f)\n",
    "    f_title, f_series, f_num=file_name.split('-')\n",
    "    print(f_num)"
   ]
  },
  {
   "cell_type": "code",
   "execution_count": 20,
   "metadata": {},
   "outputs": [
    {
     "name": "stdout",
     "output_type": "stream",
     "text": [
      " #5- Our Colors -Aqua .jpg\n",
      " #7- Our Colors -Aquamarine .jpg\n",
      " #3- Our Colors -Azure .jpg\n",
      " #1- Our Colors -Blue .jpg\n",
      " #4- Our Colors -Cerulean .jpg\n",
      " #8- Our Colors -Cyan .jpg\n",
      " #9- Our Colors -Indigo .jpg\n",
      " #6- Our Colors -Livid .jpg\n",
      " #10- Our Colors -Peacock Blue .jpg\n",
      " #2- Our Colors -Sapphire .jpg\n"
     ]
    }
   ],
   "source": [
    "for f in os.listdir():\n",
    "    file_name, file_ext = os.path.splitext(f)\n",
    "    f_title, f_series, f_num=file_name.split('-')\n",
    "    print('{}-{}-{}{}'.format(f_num, f_series, f_title, file_ext))"
   ]
  },
  {
   "cell_type": "code",
   "execution_count": 24,
   "metadata": {},
   "outputs": [
    {
     "name": "stdout",
     "output_type": "stream",
     "text": [
      "#5-Our Colors-Aqua.jpg\n",
      "#7-Our Colors-Aquamarine.jpg\n",
      "#3-Our Colors-Azure.jpg\n",
      "#1-Our Colors-Blue.jpg\n",
      "#4-Our Colors-Cerulean.jpg\n",
      "#8-Our Colors-Cyan.jpg\n",
      "#9-Our Colors-Indigo.jpg\n",
      "#6-Our Colors-Livid.jpg\n",
      "#10-Our Colors-Peacock Blue.jpg\n",
      "#2-Our Colors-Sapphire.jpg\n"
     ]
    }
   ],
   "source": [
    "for f in os.listdir():\n",
    "    f_name, f_ext = os.path.splitext(f)\n",
    "    f_title, f_series, f_num=f_name.split('-')\n",
    "    f_title=f_title.strip()\n",
    "    f_series=f_series.strip()\n",
    "    f_num=f_num.strip()\n",
    "    print('{}-{}-{}{}'.format(f_num, f_series, f_title, f_ext))"
   ]
  },
  {
   "cell_type": "code",
   "execution_count": 25,
   "metadata": {},
   "outputs": [
    {
     "name": "stdout",
     "output_type": "stream",
     "text": [
      "5-Our Colors-Aqua.jpg\n",
      "7-Our Colors-Aquamarine.jpg\n",
      "3-Our Colors-Azure.jpg\n",
      "1-Our Colors-Blue.jpg\n",
      "4-Our Colors-Cerulean.jpg\n",
      "8-Our Colors-Cyan.jpg\n",
      "9-Our Colors-Indigo.jpg\n",
      "6-Our Colors-Livid.jpg\n",
      "10-Our Colors-Peacock Blue.jpg\n",
      "2-Our Colors-Sapphire.jpg\n"
     ]
    }
   ],
   "source": [
    "for f in os.listdir():\n",
    "    f_name, f_ext = os.path.splitext(f)\n",
    "    f_title, f_series, f_num=f_name.split('-')\n",
    "    f_title=f_title.strip()\n",
    "    f_series=f_series.strip()\n",
    "    f_num=f_num.strip()[1:]\n",
    "    print('{}-{}-{}{}'.format(f_num, f_series, f_title, f_ext))"
   ]
  },
  {
   "cell_type": "code",
   "execution_count": 26,
   "metadata": {},
   "outputs": [
    {
     "name": "stdout",
     "output_type": "stream",
     "text": [
      "0005-Our Colors-Aqua.jpg\n",
      "0007-Our Colors-Aquamarine.jpg\n",
      "0003-Our Colors-Azure.jpg\n",
      "0001-Our Colors-Blue.jpg\n",
      "0004-Our Colors-Cerulean.jpg\n",
      "0008-Our Colors-Cyan.jpg\n",
      "0009-Our Colors-Indigo.jpg\n",
      "0006-Our Colors-Livid.jpg\n",
      "0010-Our Colors-Peacock Blue.jpg\n",
      "0002-Our Colors-Sapphire.jpg\n"
     ]
    }
   ],
   "source": [
    "for f in os.listdir():\n",
    "    f_name, f_ext = os.path.splitext(f)\n",
    "    f_title, f_series, f_num=f_name.split('-')\n",
    "    f_title=f_title.strip()\n",
    "    f_series=f_series.strip()\n",
    "    f_num=f_num.strip()[1:].zfill(4)\n",
    "    print('{}-{}-{}{}'.format(f_num, f_series, f_title, f_ext))"
   ]
  },
  {
   "cell_type": "code",
   "execution_count": 27,
   "metadata": {},
   "outputs": [
    {
     "name": "stdout",
     "output_type": "stream",
     "text": [
      "0005-Aqua.jpg\n",
      "0007-Aquamarine.jpg\n",
      "0003-Azure.jpg\n",
      "0001-Blue.jpg\n",
      "0004-Cerulean.jpg\n",
      "0008-Cyan.jpg\n",
      "0009-Indigo.jpg\n",
      "0006-Livid.jpg\n",
      "0010-Peacock Blue.jpg\n",
      "0002-Sapphire.jpg\n"
     ]
    }
   ],
   "source": [
    "for f in os.listdir():\n",
    "    f_name, f_ext = os.path.splitext(f)\n",
    "    f_title, f_series, f_num=f_name.split('-')\n",
    "    f_title=f_title.strip()\n",
    "    f_series=f_series.strip()\n",
    "    f_num=f_num.strip()[1:].zfill(4)\n",
    "    print('{}-{}{}'.format(f_num, f_title, f_ext))"
   ]
  },
  {
   "cell_type": "code",
   "execution_count": 28,
   "metadata": {},
   "outputs": [
    {
     "name": "stdout",
     "output_type": "stream",
     "text": [
      "05-Aqua.jpg\n",
      "07-Aquamarine.jpg\n",
      "03-Azure.jpg\n",
      "01-Blue.jpg\n",
      "04-Cerulean.jpg\n",
      "08-Cyan.jpg\n",
      "09-Indigo.jpg\n",
      "06-Livid.jpg\n",
      "10-Peacock Blue.jpg\n",
      "02-Sapphire.jpg\n"
     ]
    }
   ],
   "source": [
    "for f in os.listdir():\n",
    "    f_name, f_ext = os.path.splitext(f)\n",
    "    f_title, f_series, f_num=f_name.split('-')\n",
    "    f_title=f_title.strip()\n",
    "    f_series=f_series.strip()\n",
    "    f_num=f_num.strip()[1:].zfill(2)\n",
    "    print('{}-{}{}'.format(f_num, f_title, f_ext))"
   ]
  },
  {
   "cell_type": "code",
   "execution_count": 29,
   "metadata": {},
   "outputs": [],
   "source": [
    "for f in os.listdir():\n",
    "    f_name, f_ext = os.path.splitext(f)\n",
    "    f_title, f_series, f_num=f_name.split('-')\n",
    "    f_title=f_title.strip()\n",
    "    f_series=f_series.strip()\n",
    "    f_num=f_num.strip()[1:].zfill(2)\n",
    "    new_name='{}-{}{}'.format(f_num, f_title, f_ext)\n",
    "    os.rename(f, new_name)"
   ]
  },
  {
   "cell_type": "code",
   "execution_count": null,
   "metadata": {},
   "outputs": [],
   "source": []
  }
 ],
 "metadata": {
  "kernelspec": {
   "display_name": "Python 3",
   "language": "python",
   "name": "python3"
  },
  "language_info": {
   "codemirror_mode": {
    "name": "ipython",
    "version": 3
   },
   "file_extension": ".py",
   "mimetype": "text/x-python",
   "name": "python",
   "nbconvert_exporter": "python",
   "pygments_lexer": "ipython3",
   "version": "3.7.4"
  }
 },
 "nbformat": 4,
 "nbformat_minor": 4
}
